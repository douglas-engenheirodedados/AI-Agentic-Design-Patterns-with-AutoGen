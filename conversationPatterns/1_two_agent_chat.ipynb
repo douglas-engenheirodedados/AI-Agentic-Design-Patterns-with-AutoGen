{
 "cells": [
  {
   "cell_type": "markdown",
   "id": "a81456dd",
   "metadata": {},
   "source": [
    "# 1 - Two-agent Chat"
   ]
  },
  {
   "cell_type": "markdown",
   "id": "742cf649",
   "metadata": {},
   "source": [
    "## Setup"
   ]
  },
  {
   "cell_type": "markdown",
   "id": "132fa5e0",
   "metadata": {},
   "source": [
    "Material de referencia: https://autogen-ai.github.io/autogen/docs/topics/llm_configuration/#adding-http-client-in-llm_config-for-proxy"
   ]
  },
  {
   "cell_type": "code",
   "execution_count": null,
   "id": "dec0a2f8",
   "metadata": {},
   "outputs": [],
   "source": [
    "import os\n",
    "\n",
    "config_list = [\n",
    "    {\n",
    "        \"model\": \"gemma2:2b\",\n",
    "        \"base_url\": \"http://localhost:11434/v1\",\n",
    "        \"api_key\": \"ollama\",\n",
    "    },{\n",
    "        \"model\": \"llama-3.1-70b-versatile\",\n",
    "        \"base_url\": \"https://api.groq.com/openai/v1\",  \n",
    "        \"api_key\": os.getenv(\"GROQ_API_KEY\"),  \n",
    "    }\n",
    "]\n",
    "\n",
    "llm_config = {\"config_list\":config_list}"
   ]
  },
  {
   "cell_type": "markdown",
   "id": "116a1c4d",
   "metadata": {},
   "source": [
    "## Definindo um agente"
   ]
  },
  {
   "cell_type": "code",
   "execution_count": null,
   "id": "6fb8c441-c58c-41a8-a54b-5c387afceac5",
   "metadata": {
    "height": 132
   },
   "outputs": [],
   "source": [
    "from autogen import ConversableAgent\n",
    "\n",
    "agent = ConversableAgent(\n",
    "    name=\"agente_1\",\n",
    "    llm_config=llm_config[\"config_list\"][1],  # Acessando o primeiro item da lista dentro do dicionário\n",
    "    human_input_mode=\"NEVER\",\n",
    ")"
   ]
  },
  {
   "cell_type": "code",
   "execution_count": null,
   "id": "47886b5f-fc7c-431a-8036-cff6e88f85c6",
   "metadata": {
    "height": 81
   },
   "outputs": [],
   "source": [
    "reply = agent.generate_reply(\n",
    "    messages=[{\"content\": \"Qual o seu modelo de LLM? Responda em PT-BR\", \"role\": \"user\"}]\n",
    ")\n",
    "print(reply)"
   ]
  },
  {
   "cell_type": "markdown",
   "id": "2aae8ada",
   "metadata": {},
   "source": [
    "Definindo os agentes para conversação:"
   ]
  },
  {
   "cell_type": "code",
   "execution_count": null,
   "id": "8f109dcb-824e-40d7-8e86-efee42b75f3c",
   "metadata": {
    "height": 302
   },
   "outputs": [],
   "source": [
    "pesquisador = ConversableAgent(\n",
    "    name=\"pesquisador\",\n",
    "    system_message=\n",
    "    \"Voce é um agente de IA pesquisador de conteudo.\"\n",
    "    \"Seu trabalho é pesquisar as principais noticias da semana \"\n",
    "    \"na area de IA.\"\n",
    "    \"Suas respostas devem ser em português PT-BR.\",\n",
    "    llm_config=llm_config[\"config_list\"][0],\n",
    "    human_input_mode=\"NEVER\",\n",
    ")"
   ]
  },
  {
   "cell_type": "code",
   "execution_count": null,
   "id": "64f9d612",
   "metadata": {},
   "outputs": [],
   "source": [
    "reply = pesquisador.generate_reply(\n",
    "    messages=[{\"content\": \"Qual a sua role? No que voce pode me ajudar?\", \"role\": \"user\"}]\n",
    ")\n",
    "print(reply)"
   ]
  },
  {
   "cell_type": "code",
   "execution_count": null,
   "id": "66b65eaf",
   "metadata": {},
   "outputs": [],
   "source": [
    "sumarizador = ConversableAgent(\n",
    "    name=\"sumarizador\",\n",
    "    system_message=\n",
    "    \"Voce é um agente de IA especialista em criar resumos.\"\n",
    "    \"Voce ira trabalhar junto do agente pesquisador para \"\n",
    "    \"obter os dados que ele coletou e sumarizar.\"\n",
    "    \"Suas respostas devem ser em português PT-BR.\",\n",
    "    llm_config=llm_config[\"config_list\"][1],\n",
    "    human_input_mode=\"NEVER\",\n",
    ")"
   ]
  },
  {
   "cell_type": "code",
   "execution_count": null,
   "id": "b1e64954",
   "metadata": {},
   "outputs": [],
   "source": [
    "reply = sumarizador.generate_reply(\n",
    "    messages=[{\"content\": \"Qual a sua role? No que voce pode me ajudar?\", \"role\": \"user\"}]\n",
    ")\n",
    "print(reply)"
   ]
  },
  {
   "cell_type": "markdown",
   "id": "5c619c21",
   "metadata": {},
   "source": [
    "Iniciando a conversação"
   ]
  },
  {
   "cell_type": "code",
   "execution_count": null,
   "id": "46a1c6f6-687e-40de-8819-374201cfed9f",
   "metadata": {
    "height": 98
   },
   "outputs": [],
   "source": [
    "chat_result = sumarizador.initiate_chat(\n",
    "    recipient=pesquisador, \n",
    "    message=\"Por favor, pesquise na internet as principais noticias da semana sobre Inteligencia Artificial\",\n",
    "    max_turns=2,\n",
    ")"
   ]
  },
  {
   "cell_type": "markdown",
   "id": "78edc810",
   "metadata": {},
   "source": [
    "## Visualizando alguns resultados\n",
    "\n",
    "Voce pode visualizar:\n",
    "\n",
    "1. Historico do Chat\n",
    "2. Custo\n",
    "3. Summario da conversa"
   ]
  },
  {
   "cell_type": "code",
   "execution_count": null,
   "id": "1169ea24-eadd-4909-8d56-9b7ec5677c66",
   "metadata": {
    "height": 64
   },
   "outputs": [],
   "source": [
    "import pprint\n",
    "\n",
    "pprint.pprint(chat_result.chat_history)"
   ]
  },
  {
   "cell_type": "code",
   "execution_count": null,
   "id": "550267b6-3652-40dc-9997-c5401f6d4c47",
   "metadata": {
    "height": 30
   },
   "outputs": [],
   "source": [
    "pprint.pprint(chat_result.cost)"
   ]
  },
  {
   "cell_type": "code",
   "execution_count": null,
   "id": "dfcf468e-d217-4731-8cb4-3485377230f1",
   "metadata": {
    "height": 30
   },
   "outputs": [],
   "source": [
    "pprint.pprint(chat_result.summary)"
   ]
  },
  {
   "cell_type": "markdown",
   "id": "ba8c6cf8",
   "metadata": {},
   "source": [
    "## Tenha uma melhor sumarização"
   ]
  },
  {
   "cell_type": "code",
   "execution_count": null,
   "id": "c1a8fef1-8030-4652-a2d2-1648834f62c2",
   "metadata": {
    "height": 132
   },
   "outputs": [],
   "source": [
    "chat_result = sumarizador.initiate_chat(\n",
    "    pesquisador, \n",
    "    message=\"Olá! Faça uma pesquisa na internet com  \"\n",
    "    \"as ultimas noticias de semana sobre inteligencia artificial, Gen AI, agentic workflows\", \n",
    "    max_turns=3, \n",
    "    summary_method=\"reflection_with_llm\",\n",
    "    summary_prompt=\"Resuma a conversa e entregue o resultado em PT-BR e bullet points\",\n",
    ")"
   ]
  },
  {
   "cell_type": "code",
   "execution_count": null,
   "id": "b042de62-bc49-49ee-99f2-4f972e23670b",
   "metadata": {
    "height": 30
   },
   "outputs": [],
   "source": [
    "pprint.pprint(chat_result.summary)"
   ]
  },
  {
   "cell_type": "markdown",
   "id": "300525bd",
   "metadata": {},
   "source": [
    "## Encerrando o chat\n",
    "\n",
    "O chat pode ser encerrado passando uma condição de finalização"
   ]
  },
  {
   "cell_type": "code",
   "execution_count": null,
   "id": "044dfd61-7f1d-46d8-9e28-4b2601b43d70",
   "metadata": {
    "height": 353
   },
   "outputs": [],
   "source": [
    "assistente = ConversableAgent(\n",
    "    name=\"assistente\",\n",
    "    system_message=\n",
    "    \"Voce é um assistente pessoal baseado em IA Generativa e irá auxiliar \"\n",
    "    \"a criar uma planejamento de estudos de Agentic Workflow\", \n",
    "    llm_config=llm_config[\"config_list\"][1],\n",
    "    human_input_mode=\"NEVER\",\n",
    "    is_termination_msg=lambda msg: \"Isso é tudo, obrigado\" in msg[\"content\"],\n",
    ")\n",
    "\n",
    "planejador = ConversableAgent(\n",
    "    name=\"planejador\",\n",
    "    system_message=\n",
    "    \"Voce é um planejador especialista em Ultra Learnig. \"\n",
    "    \"Crie um plano de estudos para aprendizado de Agentic Workflow\"\n",
    "    \"Quando voce estiver pronto para encerrar a conversa, diga 'Isso é tudo, obrigado'\",\n",
    "    llm_config=llm_config[\"config_list\"][0],\n",
    "    human_input_mode=\"NEVER\",\n",
    ")"
   ]
  },
  {
   "cell_type": "code",
   "execution_count": null,
   "id": "d92dc180",
   "metadata": {},
   "outputs": [],
   "source": [
    "chat_result = planejador.initiate_chat(\n",
    "    recipient=assistente,\n",
    "    message=\"Olá, eu sou o planejador, me traga os assuntos mais importantes para estudo de IA Generativa e agentic workflow.\"\n",
    ")"
   ]
  },
  {
   "cell_type": "code",
   "execution_count": null,
   "id": "46d82a58",
   "metadata": {},
   "outputs": [],
   "source": [
    "pprint.pprint(chat_result.cost)"
   ]
  }
 ],
 "metadata": {
  "kernelspec": {
   "display_name": "Python 3 (ipykernel)",
   "language": "python",
   "name": "python3"
  },
  "language_info": {
   "codemirror_mode": {
    "name": "ipython",
    "version": 3
   },
   "file_extension": ".py",
   "mimetype": "text/x-python",
   "name": "python",
   "nbconvert_exporter": "python",
   "pygments_lexer": "ipython3",
   "version": "3.10.12"
  }
 },
 "nbformat": 4,
 "nbformat_minor": 5
}
