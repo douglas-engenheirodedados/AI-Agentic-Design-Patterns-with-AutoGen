{
 "cells": [
  {
   "cell_type": "markdown",
   "id": "a81456dd",
   "metadata": {},
   "source": [
    "# 1 - Two-agent Chat"
   ]
  },
  {
   "cell_type": "markdown",
   "id": "742cf649",
   "metadata": {},
   "source": [
    "## Setup"
   ]
  },
  {
   "cell_type": "code",
   "execution_count": 1,
   "id": "8e6a9c2d",
   "metadata": {},
   "outputs": [
    {
     "name": "stderr",
     "output_type": "stream",
     "text": [
      "flaml.automl is not available. Please install flaml[automl] to enable AutoML functionalities.\n"
     ]
    }
   ],
   "source": [
    "#import libs\n",
    "import os\n",
    "import pprint\n",
    "from autogen import ConversableAgent"
   ]
  },
  {
   "cell_type": "markdown",
   "id": "116a1c4d",
   "metadata": {},
   "source": [
    "## Definindo os agentes"
   ]
  },
  {
   "cell_type": "code",
   "execution_count": 2,
   "id": "7724b78f",
   "metadata": {},
   "outputs": [],
   "source": [
    "student_agent = ConversableAgent(\n",
    "    name=\"agente_estudante\",\n",
    "    system_message=\"Você é um estudante disposto a aprender.\",\n",
    "    llm_config={\n",
    "        \"model\": \"llama3.1:latest\",\n",
    "        \"base_url\": \"http://localhost:11434/v1\",\n",
    "        \"api_key\": \"ollama\",\n",
    "        \"temperature\":2\n",
    "    },\n",
    ")"
   ]
  },
  {
   "cell_type": "code",
   "execution_count": 4,
   "id": "4e802bc2",
   "metadata": {},
   "outputs": [],
   "source": [
    "teacher_agent = ConversableAgent(\n",
    "    name=\"agente_professor\",\n",
    "    system_message=\"Você é um professor de matemática.\",\n",
    "    llm_config={\n",
    "        \"model\": \"llama3-70b-8192\",\n",
    "        \"base_url\": \"https://api.groq.com/openai/v1\",  \n",
    "        \"api_key\": os.getenv(\"GROQ_API_KEY\"),\n",
    "        \"api_type\": \"groq\",\n",
    "        \"temperature\":1  \n",
    "    },\n",
    ")"
   ]
  },
  {
   "cell_type": "markdown",
   "id": "81c19696",
   "metadata": {},
   "source": [
    "## Colocando os agentes para conversar"
   ]
  },
  {
   "cell_type": "code",
   "execution_count": 5,
   "id": "cc0966e7",
   "metadata": {},
   "outputs": [
    {
     "name": "stdout",
     "output_type": "stream",
     "text": [
      "\u001b[33magente_estudante\u001b[0m (to agente_professor):\n",
      "\n",
      "Me explique a formula de Bhaskara como se estivesse explicando para uma criança?\n",
      "\n",
      "--------------------------------------------------------------------------------\n",
      "\u001b[31m\n",
      ">>>>>>>> USING AUTO REPLY...\u001b[0m\n",
      "\u001b[33magente_professor\u001b[0m (to agente_estudante):\n",
      "\n",
      "Que prazer explicar a fórmula de Bhaskara de uma maneira divertida e fácil de entender!\n",
      "\n",
      " Imagine que você tem uma caixa de brinquedos com uma função muito especial. Essa caixa tem um segredo: dentro dela, existem três números mágicos que, quando combinados de uma maneira certa, revelam um segredo ainda maior!\n",
      "\n",
      "Esses três números mágicos se chamam:\n",
      "\n",
      "* a (o primeiro número)\n",
      "* b (o segundo número)\n",
      "* c (o terceiro número)\n",
      "\n",
      "Agora, imagine que você quis descobrir qual é o segredo dentro da caixa. Para fazer isso, você precisa seguir uma fórmula mágica que o grande matemático indiano Bhaskara descobriu há muito tempo. Essa fórmula é:\n",
      "\n",
      "x = (-b ± √(b² - 4ac)) / 2a\n",
      "\n",
      "Não se assuste com a fórmula, vamos quebrá-la em pedaços para entender cada parte!\n",
      "\n",
      "* x é o segredo que você está procurando. É o número que você vai descobrir ao resolver a equação.\n",
      "* a, b e c são os três números mágicos que você encontrou na caixa.\n",
      "* ± (mais ou menos) é um sinal que indica que você precisa escolher entre dois caminhos para descobrir o segredo. É como uma bifurcação no caminho!\n",
      "* √ (raiz quadrada) é um símbolo que indica que você precisa encontrar o número que, quando multiplicado por ele mesmo, dê o resultado dentro dos parênteses.\n",
      "* b² significa que você precisa multiplicar o número b por ele mesmo.\n",
      "* 4ac significa que você precisa multiplicar 4 pelo produto de a e c.\n",
      "* 2a é o número que você precisa dividir o resultado final para encontrar o segredo x.\n",
      "\n",
      "Agora, vamos resolver um exemplo para ver como a fórmula de Bhaskara funciona! Suponha que os três números mágicos sejam:\n",
      "\n",
      "a = 2\n",
      "b = 3\n",
      "c = 1\n",
      "\n",
      "Quer descobrir o segredo x?\n",
      "\n",
      "Aplicamos a fórmula de Bhaskara:\n",
      "\n",
      "x = (-3 ± √(3² - 4(2)(1))) / 2(2)\n",
      "x = (-3 ± √(9 - 8)) / 4\n",
      "x = (-3 ± √1) / 4\n",
      "x = (-3 ± 1) / 4\n",
      "\n",
      "Agora, você precisa escolher entre dois caminhos:\n",
      "\n",
      "x = (-3 + 1) / 4 = -1/2\n",
      "x = (-3 - 1) / 4 = -2\n",
      "\n",
      "E descobrimos dois segredos: x = -1/2 ou x = -2!\n",
      "\n",
      "Isso é a fórmula de Bhaskara! Uma ferramenta incrível que ajuda a resolver equações de segundo grau e muito mais!\n",
      "\n",
      "Espero que você tenha se divertido aprendendo sobre a fórmula de Bhaskara. Quem sabe, um dia você vai criar sua própria fórmula mágica?\n",
      "\n",
      "--------------------------------------------------------------------------------\n",
      "\u001b[31m\n",
      ">>>>>>>> USING AUTO REPLY...\u001b[0m\n",
      "[autogen.oai.client: 09-24 21:58:03] {349} WARNING - Model llama3.1:latest is not found. The cost will be 0. In your config_list, add field {\"price\" : [prompt_price_per_1k, completion_token_price_per_1k]} for customized pricing.\n",
      "\u001b[33magente_estudante\u001b[0m (to agente_professor):\n",
      "\n",
      "Poderia ditar um pouco mais informações como por exempolo no segundo-Grande desafio da matéhatica, ( que e um  projeto criado para os meninos. A escolada usa 8 sécoes a quase todas teimando no modelo tradisional  dos liv ros, e o livro do terccir grande (que e o modelo das aventuras desculidin da ciênxia.)  que visa promover aprendizado mais efíciente de conceios abstractas) contem todos os exemplos necessários para a execçção da formula De bAshcaran para todo as variaçaom das variäis do exemplo no projeto?\n",
      "\n",
      "--------------------------------------------------------------------------------\n",
      "\u001b[31m\n",
      ">>>>>>>> USING AUTO REPLY...\u001b[0m\n",
      "\u001b[33magente_professor\u001b[0m (to agente_estudante):\n",
      "\n",
      "Entendi que você está se referindo ao Projeto \"Matemática em Ação\", que inclui o \"Segundo Grande Desafio\" e o livro \"O Terceiro Grande\" (que é o modelo de aventuras de descobertas científicas).\n",
      "\n",
      "Sim, esses recursos são projetados para tornar o aprendizado de conceitos abstratos mais eficiente e divertido para os alunos. E, felizmente, o livro do Terceiro Grande inclui exemplos e atividades que visam ajudar os alunos a compreender e aplicar a fórmula de Bhaskara de maneira prática.\n",
      "\n",
      "No livro do Terceiro Grande, você encontrará exemplos e exercícios que abordam diferentes variações da fórmula de Bhaskara, como:\n",
      "\n",
      "* Exemplos simples, onde a, b e c são números inteiros, para que os alunos possam entender a estrutura básica da fórmula;\n",
      "* Exemplos mais complexos, onde a, b e c são números decimais ou frações, para que os alunos possam aprender a aplicar a fórmula em situações mais desafiadoras;\n",
      "* Exemplos que envolvem equações que não possuem soluções reais, para que os alunos possam entender como a fórmula de Bhaskara lida com essas situações;\n",
      "* Exemplos que requerem a aplicação da fórmula de Bhaskara em problemas do mundo real, para que os alunos possam ver a utilidade prática da fórmula.\n",
      "\n",
      "Além disso, o livro também inclui atividades de fixação, como exercícios de completar, problemas de aplicação e jogos, para que os alunos possam consolidar sua compreensão da fórmula de Bhaskara e desenvolver suas habilidades de resolução de problemas.\n",
      "\n",
      "Portanto, o livro do Terceiro Grande fornece todos os exemplos e recursos necessários para que os alunos possam aprender e aplicar a fórmula de Bhaskara de maneira eficiente e eficaz.\n",
      "\n",
      "--------------------------------------------------------------------------------\n"
     ]
    }
   ],
   "source": [
    "chat_result = student_agent.initiate_chat(\n",
    "    teacher_agent,\n",
    "    message=\"Me explique a formula de Bhaskara como se estivesse explicando para uma criança?\",\n",
    "    max_turns=2,\n",
    ")"
   ]
  },
  {
   "cell_type": "markdown",
   "id": "78edc810",
   "metadata": {},
   "source": [
    "## Visualizando alguns resultados\n",
    "\n",
    "Voce pode visualizar:\n",
    "\n",
    "1. Historico do Chat\n",
    "2. Custo\n",
    "3. Summario da conversa"
   ]
  },
  {
   "cell_type": "code",
   "execution_count": 6,
   "id": "1169ea24-eadd-4909-8d56-9b7ec5677c66",
   "metadata": {
    "height": 64
   },
   "outputs": [
    {
     "name": "stdout",
     "output_type": "stream",
     "text": [
      "[{'content': 'Me explique a formula de Bhaskara como se estivesse explicando '\n",
      "             'para uma criança?',\n",
      "  'name': 'agente_estudante',\n",
      "  'role': 'assistant'},\n",
      " {'content': 'Que prazer explicar a fórmula de Bhaskara de uma maneira '\n",
      "             'divertida e fácil de entender!\\n'\n",
      "             '\\n'\n",
      "             ' Imagine que você tem uma caixa de brinquedos com uma função '\n",
      "             'muito especial. Essa caixa tem um segredo: dentro dela, existem '\n",
      "             'três números mágicos que, quando combinados de uma maneira '\n",
      "             'certa, revelam um segredo ainda maior!\\n'\n",
      "             '\\n'\n",
      "             'Esses três números mágicos se chamam:\\n'\n",
      "             '\\n'\n",
      "             '* a (o primeiro número)\\n'\n",
      "             '* b (o segundo número)\\n'\n",
      "             '* c (o terceiro número)\\n'\n",
      "             '\\n'\n",
      "             'Agora, imagine que você quis descobrir qual é o segredo dentro '\n",
      "             'da caixa. Para fazer isso, você precisa seguir uma fórmula '\n",
      "             'mágica que o grande matemático indiano Bhaskara descobriu há '\n",
      "             'muito tempo. Essa fórmula é:\\n'\n",
      "             '\\n'\n",
      "             'x = (-b ± √(b² - 4ac)) / 2a\\n'\n",
      "             '\\n'\n",
      "             'Não se assuste com a fórmula, vamos quebrá-la em pedaços para '\n",
      "             'entender cada parte!\\n'\n",
      "             '\\n'\n",
      "             '* x é o segredo que você está procurando. É o número que você '\n",
      "             'vai descobrir ao resolver a equação.\\n'\n",
      "             '* a, b e c são os três números mágicos que você encontrou na '\n",
      "             'caixa.\\n'\n",
      "             '* ± (mais ou menos) é um sinal que indica que você precisa '\n",
      "             'escolher entre dois caminhos para descobrir o segredo. É como '\n",
      "             'uma bifurcação no caminho!\\n'\n",
      "             '* √ (raiz quadrada) é um símbolo que indica que você precisa '\n",
      "             'encontrar o número que, quando multiplicado por ele mesmo, dê o '\n",
      "             'resultado dentro dos parênteses.\\n'\n",
      "             '* b² significa que você precisa multiplicar o número b por ele '\n",
      "             'mesmo.\\n'\n",
      "             '* 4ac significa que você precisa multiplicar 4 pelo produto de a '\n",
      "             'e c.\\n'\n",
      "             '* 2a é o número que você precisa dividir o resultado final para '\n",
      "             'encontrar o segredo x.\\n'\n",
      "             '\\n'\n",
      "             'Agora, vamos resolver um exemplo para ver como a fórmula de '\n",
      "             'Bhaskara funciona! Suponha que os três números mágicos sejam:\\n'\n",
      "             '\\n'\n",
      "             'a = 2\\n'\n",
      "             'b = 3\\n'\n",
      "             'c = 1\\n'\n",
      "             '\\n'\n",
      "             'Quer descobrir o segredo x?\\n'\n",
      "             '\\n'\n",
      "             'Aplicamos a fórmula de Bhaskara:\\n'\n",
      "             '\\n'\n",
      "             'x = (-3 ± √(3² - 4(2)(1))) / 2(2)\\n'\n",
      "             'x = (-3 ± √(9 - 8)) / 4\\n'\n",
      "             'x = (-3 ± √1) / 4\\n'\n",
      "             'x = (-3 ± 1) / 4\\n'\n",
      "             '\\n'\n",
      "             'Agora, você precisa escolher entre dois caminhos:\\n'\n",
      "             '\\n'\n",
      "             'x = (-3 + 1) / 4 = -1/2\\n'\n",
      "             'x = (-3 - 1) / 4 = -2\\n'\n",
      "             '\\n'\n",
      "             'E descobrimos dois segredos: x = -1/2 ou x = -2!\\n'\n",
      "             '\\n'\n",
      "             'Isso é a fórmula de Bhaskara! Uma ferramenta incrível que ajuda '\n",
      "             'a resolver equações de segundo grau e muito mais!\\n'\n",
      "             '\\n'\n",
      "             'Espero que você tenha se divertido aprendendo sobre a fórmula de '\n",
      "             'Bhaskara. Quem sabe, um dia você vai criar sua própria fórmula '\n",
      "             'mágica?',\n",
      "  'name': 'agente_professor',\n",
      "  'role': 'user'},\n",
      " {'content': 'Poderia ditar um pouco mais informações como por exempolo no '\n",
      "             'segundo-Grande desafio da matéhatica, ( que e um  projeto criado '\n",
      "             'para os meninos. A escolada usa 8 sécoes a quase todas teimando '\n",
      "             'no modelo tradisional  dos liv ros, e o livro do terccir grande '\n",
      "             '(que e o modelo das aventuras desculidin da ciênxia.)  que visa '\n",
      "             'promover aprendizado mais efíciente de conceios abstractas) '\n",
      "             'contem todos os exemplos necessários para a execçção da formula '\n",
      "             'De bAshcaran para todo as variaçaom das variäis do exemplo no '\n",
      "             'projeto?',\n",
      "  'name': 'agente_estudante',\n",
      "  'role': 'assistant'},\n",
      " {'content': 'Entendi que você está se referindo ao Projeto \"Matemática em '\n",
      "             'Ação\", que inclui o \"Segundo Grande Desafio\" e o livro \"O '\n",
      "             'Terceiro Grande\" (que é o modelo de aventuras de descobertas '\n",
      "             'científicas).\\n'\n",
      "             '\\n'\n",
      "             'Sim, esses recursos são projetados para tornar o aprendizado de '\n",
      "             'conceitos abstratos mais eficiente e divertido para os alunos. '\n",
      "             'E, felizmente, o livro do Terceiro Grande inclui exemplos e '\n",
      "             'atividades que visam ajudar os alunos a compreender e aplicar a '\n",
      "             'fórmula de Bhaskara de maneira prática.\\n'\n",
      "             '\\n'\n",
      "             'No livro do Terceiro Grande, você encontrará exemplos e '\n",
      "             'exercícios que abordam diferentes variações da fórmula de '\n",
      "             'Bhaskara, como:\\n'\n",
      "             '\\n'\n",
      "             '* Exemplos simples, onde a, b e c são números inteiros, para que '\n",
      "             'os alunos possam entender a estrutura básica da fórmula;\\n'\n",
      "             '* Exemplos mais complexos, onde a, b e c são números decimais ou '\n",
      "             'frações, para que os alunos possam aprender a aplicar a fórmula '\n",
      "             'em situações mais desafiadoras;\\n'\n",
      "             '* Exemplos que envolvem equações que não possuem soluções reais, '\n",
      "             'para que os alunos possam entender como a fórmula de Bhaskara '\n",
      "             'lida com essas situações;\\n'\n",
      "             '* Exemplos que requerem a aplicação da fórmula de Bhaskara em '\n",
      "             'problemas do mundo real, para que os alunos possam ver a '\n",
      "             'utilidade prática da fórmula.\\n'\n",
      "             '\\n'\n",
      "             'Além disso, o livro também inclui atividades de fixação, como '\n",
      "             'exercícios de completar, problemas de aplicação e jogos, para '\n",
      "             'que os alunos possam consolidar sua compreensão da fórmula de '\n",
      "             'Bhaskara e desenvolver suas habilidades de resolução de '\n",
      "             'problemas.\\n'\n",
      "             '\\n'\n",
      "             'Portanto, o livro do Terceiro Grande fornece todos os exemplos e '\n",
      "             'recursos necessários para que os alunos possam aprender e '\n",
      "             'aplicar a fórmula de Bhaskara de maneira eficiente e eficaz.',\n",
      "  'name': 'agente_professor',\n",
      "  'role': 'user'}]\n"
     ]
    }
   ],
   "source": [
    "pprint.pprint(chat_result.chat_history)"
   ]
  },
  {
   "cell_type": "code",
   "execution_count": 7,
   "id": "550267b6-3652-40dc-9997-c5401f6d4c47",
   "metadata": {
    "height": 30
   },
   "outputs": [
    {
     "name": "stdout",
     "output_type": "stream",
     "text": [
      "{'usage_excluding_cached_inference': {'llama3-70b-8192': {'completion_tokens': 1155,\n",
      "                                                          'cost': 0.00146469,\n",
      "                                                          'prompt_tokens': 936,\n",
      "                                                          'total_tokens': 2091},\n",
      "                                      'llama3.1:latest': {'completion_tokens': 144,\n",
      "                                                          'cost': 0,\n",
      "                                                          'prompt_tokens': 744,\n",
      "                                                          'total_tokens': 888},\n",
      "                                      'total_cost': 0.00146469},\n",
      " 'usage_including_cached_inference': {'llama3-70b-8192': {'completion_tokens': 1155,\n",
      "                                                          'cost': 0.00146469,\n",
      "                                                          'prompt_tokens': 936,\n",
      "                                                          'total_tokens': 2091},\n",
      "                                      'llama3.1:latest': {'completion_tokens': 144,\n",
      "                                                          'cost': 0,\n",
      "                                                          'prompt_tokens': 744,\n",
      "                                                          'total_tokens': 888},\n",
      "                                      'total_cost': 0.00146469}}\n"
     ]
    }
   ],
   "source": [
    "pprint.pprint(chat_result.cost)"
   ]
  },
  {
   "cell_type": "code",
   "execution_count": 8,
   "id": "645d0e44",
   "metadata": {},
   "outputs": [
    {
     "name": "stdout",
     "output_type": "stream",
     "text": [
      "('Entendi que você está se referindo ao Projeto \"Matemática em Ação\", que '\n",
      " 'inclui o \"Segundo Grande Desafio\" e o livro \"O Terceiro Grande\" (que é o '\n",
      " 'modelo de aventuras de descobertas científicas).\\n'\n",
      " '\\n'\n",
      " 'Sim, esses recursos são projetados para tornar o aprendizado de conceitos '\n",
      " 'abstratos mais eficiente e divertido para os alunos. E, felizmente, o livro '\n",
      " 'do Terceiro Grande inclui exemplos e atividades que visam ajudar os alunos a '\n",
      " 'compreender e aplicar a fórmula de Bhaskara de maneira prática.\\n'\n",
      " '\\n'\n",
      " 'No livro do Terceiro Grande, você encontrará exemplos e exercícios que '\n",
      " 'abordam diferentes variações da fórmula de Bhaskara, como:\\n'\n",
      " '\\n'\n",
      " '* Exemplos simples, onde a, b e c são números inteiros, para que os alunos '\n",
      " 'possam entender a estrutura básica da fórmula;\\n'\n",
      " '* Exemplos mais complexos, onde a, b e c são números decimais ou frações, '\n",
      " 'para que os alunos possam aprender a aplicar a fórmula em situações mais '\n",
      " 'desafiadoras;\\n'\n",
      " '* Exemplos que envolvem equações que não possuem soluções reais, para que os '\n",
      " 'alunos possam entender como a fórmula de Bhaskara lida com essas situações;\\n'\n",
      " '* Exemplos que requerem a aplicação da fórmula de Bhaskara em problemas do '\n",
      " 'mundo real, para que os alunos possam ver a utilidade prática da fórmula.\\n'\n",
      " '\\n'\n",
      " 'Além disso, o livro também inclui atividades de fixação, como exercícios de '\n",
      " 'completar, problemas de aplicação e jogos, para que os alunos possam '\n",
      " 'consolidar sua compreensão da fórmula de Bhaskara e desenvolver suas '\n",
      " 'habilidades de resolução de problemas.\\n'\n",
      " '\\n'\n",
      " 'Portanto, o livro do Terceiro Grande fornece todos os exemplos e recursos '\n",
      " 'necessários para que os alunos possam aprender e aplicar a fórmula de '\n",
      " 'Bhaskara de maneira eficiente e eficaz.')\n"
     ]
    }
   ],
   "source": [
    "pprint.pprint(chat_result.summary)"
   ]
  }
 ],
 "metadata": {
  "kernelspec": {
   "display_name": "Python 3 (ipykernel)",
   "language": "python",
   "name": "python3"
  },
  "language_info": {
   "codemirror_mode": {
    "name": "ipython",
    "version": 3
   },
   "file_extension": ".py",
   "mimetype": "text/x-python",
   "name": "python",
   "nbconvert_exporter": "python",
   "pygments_lexer": "ipython3",
   "version": "3.10.12"
  }
 },
 "nbformat": 4,
 "nbformat_minor": 5
}
