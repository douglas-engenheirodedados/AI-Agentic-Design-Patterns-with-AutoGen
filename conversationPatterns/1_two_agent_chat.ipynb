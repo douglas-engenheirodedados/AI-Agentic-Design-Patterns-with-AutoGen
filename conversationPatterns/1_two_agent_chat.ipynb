{
 "cells": [
  {
   "cell_type": "markdown",
   "id": "a81456dd",
   "metadata": {},
   "source": [
    "# 1 - Two-agent Chat"
   ]
  },
  {
   "cell_type": "markdown",
   "id": "742cf649",
   "metadata": {},
   "source": [
    "## Setup"
   ]
  },
  {
   "cell_type": "markdown",
   "id": "132fa5e0",
   "metadata": {},
   "source": [
    "Material de referencia: https://autogen-ai.github.io/autogen/docs/topics/llm_configuration/#adding-http-client-in-llm_config-for-proxy"
   ]
  },
  {
   "cell_type": "code",
   "execution_count": 26,
   "id": "dec0a2f8",
   "metadata": {},
   "outputs": [],
   "source": [
    "import os\n",
    "\n",
    "config_list = [\n",
    "    {\n",
    "        \"model\": \"gemma2:2b\",\n",
    "        \"base_url\": \"http://localhost:11434/v1\",\n",
    "        \"api_key\": \"ollama\",\n",
    "    },{\n",
    "        \"model\": \"llama-3.1-70b-versatile\",\n",
    "        \"base_url\": \"https://api.groq.com/openai/v1\",  \n",
    "        \"api_key\": os.getenv(\"GROQ_API_KEY\"),  \n",
    "    }\n",
    "]\n",
    "\n",
    "llm_config = {\"config_list\":config_list}"
   ]
  },
  {
   "cell_type": "markdown",
   "id": "116a1c4d",
   "metadata": {},
   "source": [
    "## Definindo um agente"
   ]
  },
  {
   "cell_type": "code",
   "execution_count": 7,
   "id": "6fb8c441-c58c-41a8-a54b-5c387afceac5",
   "metadata": {
    "height": 132
   },
   "outputs": [],
   "source": [
    "from autogen import ConversableAgent\n",
    "\n",
    "agent = ConversableAgent(\n",
    "    name=\"agente_1\",\n",
    "    llm_config=llm_config[\"config_list\"][1],  # Acessando o primeiro item da lista dentro do dicionário\n",
    "    human_input_mode=\"NEVER\",\n",
    ")"
   ]
  },
  {
   "cell_type": "code",
   "execution_count": 8,
   "id": "47886b5f-fc7c-431a-8036-cff6e88f85c6",
   "metadata": {
    "height": 81
   },
   "outputs": [
    {
     "name": "stdout",
     "output_type": "stream",
     "text": [
      "Meu modelo é baseado na arquitetura de LLM (Large Language Model) de última geração, mas não tenho um nome específico ou uma versão pública. No entanto, posso dizer que meu treinamento foi baseado em um conjunto de dados massivos e diversificado, que inclui textos de várias línguas, incluindo o português brasileiro.\n",
      "\n",
      "Minha arquitetura é semelhante à de outros modelos de LLM famosos, como o BERT, o RoBERTa e o T5, que foram treinados com técnicas de aprendizado profundo e transferência de conhecimento. Isso me permite entender e gerar texto em uma variedade de estilos e formatos.\n",
      "\n",
      "No entanto, é importante notar que meu modelo é uma implementação proprietária e não é pública. Se você tiver alguma dúvida ou precisar de ajuda com algo específico, estou aqui para ajudar!\n"
     ]
    }
   ],
   "source": [
    "reply = agent.generate_reply(\n",
    "    messages=[{\"content\": \"Qual o seu modelo de LLM? Responda em PT-BR\", \"role\": \"user\"}]\n",
    ")\n",
    "print(reply)"
   ]
  },
  {
   "cell_type": "markdown",
   "id": "2aae8ada",
   "metadata": {},
   "source": [
    "Definindo os agentes para conversação:"
   ]
  },
  {
   "cell_type": "code",
   "execution_count": 9,
   "id": "8f109dcb-824e-40d7-8e86-efee42b75f3c",
   "metadata": {
    "height": 302
   },
   "outputs": [],
   "source": [
    "pesquisador = ConversableAgent(\n",
    "    name=\"pesquisador\",\n",
    "    system_message=\n",
    "    \"Voce é um agente de IA pesquisador de conteudo.\"\n",
    "    \"Seu trabalho é pesquisar as principais noticias da semana \"\n",
    "    \"na area de IA.\"\n",
    "    \"Suas respostas devem ser em português PT-BR.\",\n",
    "    llm_config=llm_config[\"config_list\"][0],\n",
    "    human_input_mode=\"NEVER\",\n",
    ")"
   ]
  },
  {
   "cell_type": "code",
   "execution_count": 10,
   "id": "64f9d612",
   "metadata": {},
   "outputs": [
    {
     "name": "stdout",
     "output_type": "stream",
     "text": [
      "Olá! Sou Gemma, um agente de IA especializado em pesquisa de conteúdo sobre IA. \n",
      "\n",
      "Minha principal função é te auxiliar na compreensão e acompanhamento das notícias da área de Inteligência Artificial semana após semana. 📚✨ \n",
      "\n",
      "Para poder te ajudar da melhor forma possível, me forneça mais detalhes sobre o que você precisa. Alguns exemplos:\n",
      "\n",
      "**Por exemplo:**\n",
      "\n",
      "* **Quer entender quais são as últimas tendências em IA no mercado?**  Me fale qual área te interessa (Machine Learning, Deep Learning etc.)\n",
      "* **Precisa de notícias sobre um tema específico?** Me diga o tópico, por exemplo, \"IA na saúde\", \"IA e ética\" etc. \n",
      "* **Tem interesse em saber quais são as startups que estão inovando no setor?** Diga-me se você precisa desta informação para um artigo, uma apresentação ou outro projeto!\n",
      "* **Se precisar de informações sobre eventos recentes?**  Conte-me qual o evento, tipo, local de ocorrencia, etc.\n",
      "\n",
      "\n",
      "Aguardo suas perguntas! 💪  \n",
      "\n"
     ]
    }
   ],
   "source": [
    "reply = pesquisador.generate_reply(\n",
    "    messages=[{\"content\": \"Qual a sua role? No que voce pode me ajudar?\", \"role\": \"user\"}]\n",
    ")\n",
    "print(reply)"
   ]
  },
  {
   "cell_type": "code",
   "execution_count": 11,
   "id": "66b65eaf",
   "metadata": {},
   "outputs": [],
   "source": [
    "sumarizador = ConversableAgent(\n",
    "    name=\"sumarizador\",\n",
    "    system_message=\n",
    "    \"Voce é um agente de IA especialista em criar resumos.\"\n",
    "    \"Voce ira trabalhar junto do agente pesquisador para \"\n",
    "    \"obter os dados que ele coletou e sumarizar.\"\n",
    "    \"Suas respostas devem ser em português PT-BR.\",\n",
    "    llm_config=llm_config[\"config_list\"][1],\n",
    "    human_input_mode=\"NEVER\",\n",
    ")"
   ]
  },
  {
   "cell_type": "code",
   "execution_count": 12,
   "id": "b1e64954",
   "metadata": {},
   "outputs": [
    {
     "name": "stdout",
     "output_type": "stream",
     "text": [
      "Minha role é criar resumos claros e concisos baseados nas informações coletadas e fornecidas pelo agente pesquisador. Eu posso te ajudar a:\n",
      "\n",
      "* Resumir textos longos e complexos em poucas frases simples\n",
      "* Organizar informações desestruturadas em um formato mais lógico e fácil de entender\n",
      "* Identificar os principais pontos e ideias em um texto ou conjunto de informações\n",
      "* Criar um sumário executivo para ajudá-lo a entender rapidamente o conteúdo\n",
      "* Simplificar linguagem técnica ou especializada para torná-la mais acessível\n",
      "\n",
      "Basta fornecer as informações coletadas pelo agente pesquisador, e estou pronto para criar um resumo claro e conciso para você!\n"
     ]
    }
   ],
   "source": [
    "reply = sumarizador.generate_reply(\n",
    "    messages=[{\"content\": \"Qual a sua role? No que voce pode me ajudar?\", \"role\": \"user\"}]\n",
    ")\n",
    "print(reply)"
   ]
  },
  {
   "cell_type": "markdown",
   "id": "5c619c21",
   "metadata": {},
   "source": [
    "Iniciando a conversação"
   ]
  },
  {
   "cell_type": "code",
   "execution_count": 14,
   "id": "46a1c6f6-687e-40de-8819-374201cfed9f",
   "metadata": {
    "height": 98
   },
   "outputs": [
    {
     "name": "stdout",
     "output_type": "stream",
     "text": [
      "\u001b[33msumarizador\u001b[0m (to pesquisador):\n",
      "\n",
      "Por favor, pesquise na internet as principais noticias da semana sobre Inteligencia Artificial\n",
      "\n",
      "--------------------------------------------------------------------------------\n",
      "\u001b[33mpesquisador\u001b[0m (to sumarizador):\n",
      "\n",
      "Olá! Como um modelo de linguagem, eu não tenho acesso à internet para buscar notícias em tempo real. Para que você possa ter o panorama das informações mais recentes sobre IA, recomendo que consulte sites especializados em tecnologia como:\n",
      "\n",
      "* **TechCrunch:** https://techcrunch.com/ \n",
      "* **The Verge:** https://theverge.com/ \n",
      "* **MIT Technology Review:** https://www.technologyreview.com/  \n",
      "* **Wired:** https://www.wired.com/ \n",
      "* **VentureBeat:** https://venturebeat.com/ \n",
      "\n",
      "Você também pode usar outros mecanismos de busca, como Google News, e buscar por \"IA\" ou \" Inteligência Artificial\". \n",
      "\n",
      "\n",
      "Espero que isso ajude! 😉  \n",
      "\n",
      "\n",
      "--------------------------------------------------------------------------------\n",
      "\u001b[33msumarizador\u001b[0m (to pesquisador):\n",
      "\n",
      "Agradeço a dica, mas estou aguardando as informações que o agente pesquisador coletou. Por favor, compartilhe as informações sobre Inteligência Artificial que ele coletou e eu farei o resumo.\n",
      "\n",
      "--------------------------------------------------------------------------------\n",
      "\u001b[33mpesquisador\u001b[0m (to sumarizador):\n",
      "\n",
      "Você está correto! Desculpe, as minhas capacidades de pesquisa por informações em tempo real são limitadas. O modelo ainda está aprendendo a explorar diferentes tipos de informação, incluindo notícias da área de IA.  \n",
      "\n",
      "Para auxiliar, vou te dar um panorama geral das principais áreas em que a IA (Inteligência Artificial) se destaca no momento:  \n",
      "\n",
      "**1. Grandes Avanços na Realidade Virtual e aumentada:** \n",
      "    * **IA na criação de ambientes imersivos:** empresas estão explorando o uso da IA para gerar mundo virtual mais realistas, com personagens que podem interagir e responder a cenários personalizados, como em jogos, filmes ou simulações.  \n",
      "\n",
      "**2. Avanços Importantes na Saúde e Diagnóstico Médico:**\n",
      "    * **IA no diagnóstico médico:** algoritmos de aprendizado de máquina estão sendo usados ​​para analisar imagens médicas e auxiliar diagnósticos, abrindo possibilidades para diagnósticos mais precisos\n",
      "    * **IA em robôs médicos:** desenvolvimento de robôs cirurgiões autônomos que podem realizar cirurgias com maior precisão e menos riscos. \n",
      "\n",
      "**3.  Aumento da Automatização de Tarefas, Impulsionando o Trabalho:**\n",
      "    * **IA na logística:** a automação é essencial. A IA está sendo utilizada para otimizar rotas de entrega, determinar o melhor caminho, e para agilizar a gestão de estoque em empresas como transportadoras e marketplaces.  \n",
      "\n",
      "**4.  Exploração das Fontes com IA em Diversos Áreas.**\n",
      "   * **IA na busca de informações:** IA permite que novos tipos de pesquisa e análises sejam feitas em vastos conjuntos de dados, identificando padrões e tendências antes invisíveis para os humanos. \n",
      "\n",
      "Lembre-se que o campo da IA está evoluindo rapidamente, com grandes novidades sendo anunciadas constantemente. Se você precisa de mais detalhes sobre alguma área específica, pode me perguntar!  \n",
      "\n",
      "\n",
      "--------------------------------------------------------------------------------\n"
     ]
    }
   ],
   "source": [
    "chat_result = sumarizador.initiate_chat(\n",
    "    recipient=pesquisador, \n",
    "    message=\"Por favor, pesquise na internet as principais noticias da semana sobre Inteligencia Artificial\",\n",
    "    max_turns=2,\n",
    ")"
   ]
  },
  {
   "cell_type": "markdown",
   "id": "78edc810",
   "metadata": {},
   "source": [
    "## Visualizando alguns resultados\n",
    "\n",
    "Voce pode visualizar:\n",
    "\n",
    "1. Historico do Chat\n",
    "2. Custo\n",
    "3. Summario da conversa"
   ]
  },
  {
   "cell_type": "code",
   "execution_count": 15,
   "id": "1169ea24-eadd-4909-8d56-9b7ec5677c66",
   "metadata": {
    "height": 64
   },
   "outputs": [
    {
     "name": "stdout",
     "output_type": "stream",
     "text": [
      "[{'content': 'Por favor, pesquise na internet as principais noticias da semana '\n",
      "             'sobre Inteligencia Artificial',\n",
      "  'name': 'sumarizador',\n",
      "  'role': 'assistant'},\n",
      " {'content': 'Olá! Como um modelo de linguagem, eu não tenho acesso à internet '\n",
      "             'para buscar notícias em tempo real. Para que você possa ter o '\n",
      "             'panorama das informações mais recentes sobre IA, recomendo que '\n",
      "             'consulte sites especializados em tecnologia como:\\n'\n",
      "             '\\n'\n",
      "             '* **TechCrunch:** https://techcrunch.com/ \\n'\n",
      "             '* **The Verge:** https://theverge.com/ \\n'\n",
      "             '* **MIT Technology Review:** '\n",
      "             'https://www.technologyreview.com/  \\n'\n",
      "             '* **Wired:** https://www.wired.com/ \\n'\n",
      "             '* **VentureBeat:** https://venturebeat.com/ \\n'\n",
      "             '\\n'\n",
      "             'Você também pode usar outros mecanismos de busca, como Google '\n",
      "             'News, e buscar por \"IA\" ou \" Inteligência Artificial\". \\n'\n",
      "             '\\n'\n",
      "             '\\n'\n",
      "             'Espero que isso ajude! 😉  \\n',\n",
      "  'name': 'pesquisador',\n",
      "  'role': 'user'},\n",
      " {'content': 'Agradeço a dica, mas estou aguardando as informações que o '\n",
      "             'agente pesquisador coletou. Por favor, compartilhe as '\n",
      "             'informações sobre Inteligência Artificial que ele coletou e eu '\n",
      "             'farei o resumo.',\n",
      "  'name': 'sumarizador',\n",
      "  'role': 'assistant'},\n",
      " {'content': 'Você está correto! Desculpe, as minhas capacidades de pesquisa '\n",
      "             'por informações em tempo real são limitadas. O modelo ainda está '\n",
      "             'aprendendo a explorar diferentes tipos de informação, incluindo '\n",
      "             'notícias da área de IA.  \\n'\n",
      "             '\\n'\n",
      "             'Para auxiliar, vou te dar um panorama geral das principais áreas '\n",
      "             'em que a IA (Inteligência Artificial) se destaca no momento:  \\n'\n",
      "             '\\n'\n",
      "             '**1. Grandes Avanços na Realidade Virtual e aumentada:** \\n'\n",
      "             '    * **IA na criação de ambientes imersivos:** empresas estão '\n",
      "             'explorando o uso da IA para gerar mundo virtual mais realistas, '\n",
      "             'com personagens que podem interagir e responder a cenários '\n",
      "             'personalizados, como em jogos, filmes ou simulações.  \\n'\n",
      "             '\\n'\n",
      "             '**2. Avanços Importantes na Saúde e Diagnóstico Médico:**\\n'\n",
      "             '    * **IA no diagnóstico médico:** algoritmos de aprendizado de '\n",
      "             'máquina estão sendo usados \\u200b\\u200bpara analisar imagens '\n",
      "             'médicas e auxiliar diagnósticos, abrindo possibilidades para '\n",
      "             'diagnósticos mais precisos\\n'\n",
      "             '    * **IA em robôs médicos:** desenvolvimento de robôs '\n",
      "             'cirurgiões autônomos que podem realizar cirurgias com maior '\n",
      "             'precisão e menos riscos. \\n'\n",
      "             '\\n'\n",
      "             '**3.  Aumento da Automatização de Tarefas, Impulsionando o '\n",
      "             'Trabalho:**\\n'\n",
      "             '    * **IA na logística:** a automação é essencial. A IA está '\n",
      "             'sendo utilizada para otimizar rotas de entrega, determinar o '\n",
      "             'melhor caminho, e para agilizar a gestão de estoque em empresas '\n",
      "             'como transportadoras e marketplaces.  \\n'\n",
      "             '\\n'\n",
      "             '**4.  Exploração das Fontes com IA em Diversos Áreas.**\\n'\n",
      "             '   * **IA na busca de informações:** IA permite que novos tipos '\n",
      "             'de pesquisa e análises sejam feitas em vastos conjuntos de '\n",
      "             'dados, identificando padrões e tendências antes invisíveis para '\n",
      "             'os humanos. \\n'\n",
      "             '\\n'\n",
      "             'Lembre-se que o campo da IA está evoluindo rapidamente, com '\n",
      "             'grandes novidades sendo anunciadas constantemente. Se você '\n",
      "             'precisa de mais detalhes sobre alguma área específica, pode me '\n",
      "             'perguntar!  \\n',\n",
      "  'name': 'pesquisador',\n",
      "  'role': 'user'}]\n"
     ]
    }
   ],
   "source": [
    "import pprint\n",
    "\n",
    "pprint.pprint(chat_result.chat_history)"
   ]
  },
  {
   "cell_type": "code",
   "execution_count": 16,
   "id": "550267b6-3652-40dc-9997-c5401f6d4c47",
   "metadata": {
    "height": 30
   },
   "outputs": [
    {
     "name": "stdout",
     "output_type": "stream",
     "text": [
      "{'usage_excluding_cached_inference': {'total_cost': 0},\n",
      " 'usage_including_cached_inference': {'gemma2:2b': {'completion_tokens': 936,\n",
      "                                                    'cost': 0,\n",
      "                                                    'prompt_tokens': 482,\n",
      "                                                    'total_tokens': 1418},\n",
      "                                      'llama-3.1-70b-versatile': {'completion_tokens': 220,\n",
      "                                                                  'cost': 0,\n",
      "                                                                  'prompt_tokens': 390,\n",
      "                                                                  'total_tokens': 610},\n",
      "                                      'total_cost': 0}}\n"
     ]
    }
   ],
   "source": [
    "pprint.pprint(chat_result.cost)"
   ]
  },
  {
   "cell_type": "code",
   "execution_count": 17,
   "id": "dfcf468e-d217-4731-8cb4-3485377230f1",
   "metadata": {
    "height": 30
   },
   "outputs": [
    {
     "name": "stdout",
     "output_type": "stream",
     "text": [
      "('Você está correto! Desculpe, as minhas capacidades de pesquisa por '\n",
      " 'informações em tempo real são limitadas. O modelo ainda está aprendendo a '\n",
      " 'explorar diferentes tipos de informação, incluindo notícias da área de '\n",
      " 'IA.  \\n'\n",
      " '\\n'\n",
      " 'Para auxiliar, vou te dar um panorama geral das principais áreas em que a IA '\n",
      " '(Inteligência Artificial) se destaca no momento:  \\n'\n",
      " '\\n'\n",
      " '**1. Grandes Avanços na Realidade Virtual e aumentada:** \\n'\n",
      " '    * **IA na criação de ambientes imersivos:** empresas estão explorando o '\n",
      " 'uso da IA para gerar mundo virtual mais realistas, com personagens que podem '\n",
      " 'interagir e responder a cenários personalizados, como em jogos, filmes ou '\n",
      " 'simulações.  \\n'\n",
      " '\\n'\n",
      " '**2. Avanços Importantes na Saúde e Diagnóstico Médico:**\\n'\n",
      " '    * **IA no diagnóstico médico:** algoritmos de aprendizado de máquina '\n",
      " 'estão sendo usados \\u200b\\u200bpara analisar imagens médicas e auxiliar '\n",
      " 'diagnósticos, abrindo possibilidades para diagnósticos mais precisos\\n'\n",
      " '    * **IA em robôs médicos:** desenvolvimento de robôs cirurgiões autônomos '\n",
      " 'que podem realizar cirurgias com maior precisão e menos riscos. \\n'\n",
      " '\\n'\n",
      " '**3.  Aumento da Automatização de Tarefas, Impulsionando o Trabalho:**\\n'\n",
      " '    * **IA na logística:** a automação é essencial. A IA está sendo '\n",
      " 'utilizada para otimizar rotas de entrega, determinar o melhor caminho, e '\n",
      " 'para agilizar a gestão de estoque em empresas como transportadoras e '\n",
      " 'marketplaces.  \\n'\n",
      " '\\n'\n",
      " '**4.  Exploração das Fontes com IA em Diversos Áreas.**\\n'\n",
      " '   * **IA na busca de informações:** IA permite que novos tipos de pesquisa '\n",
      " 'e análises sejam feitas em vastos conjuntos de dados, identificando padrões '\n",
      " 'e tendências antes invisíveis para os humanos. \\n'\n",
      " '\\n'\n",
      " 'Lembre-se que o campo da IA está evoluindo rapidamente, com grandes '\n",
      " 'novidades sendo anunciadas constantemente. Se você precisa de mais detalhes '\n",
      " 'sobre alguma área específica, pode me perguntar!  \\n')\n"
     ]
    }
   ],
   "source": [
    "pprint.pprint(chat_result.summary)"
   ]
  },
  {
   "cell_type": "markdown",
   "id": "ba8c6cf8",
   "metadata": {},
   "source": [
    "## Tenha uma melhor sumarização"
   ]
  },
  {
   "cell_type": "code",
   "execution_count": 18,
   "id": "c1a8fef1-8030-4652-a2d2-1648834f62c2",
   "metadata": {
    "height": 132
   },
   "outputs": [
    {
     "name": "stdout",
     "output_type": "stream",
     "text": [
      "\u001b[33msumarizador\u001b[0m (to pesquisador):\n",
      "\n",
      "Olá! Faça uma pesquisa na internet com  as ultimas noticias de semana sobre inteligencia artificial, Gen AI, agentic workflows\n",
      "\n",
      "--------------------------------------------------------------------------------\n",
      "\u001b[33mpesquisador\u001b[0m (to sumarizador):\n",
      "\n",
      "Como um modelo de linguagem de IA, não tenho acesso à internet para realizar pesquisas em tempo real. Sou capaz de processar e fornecer informações que já foram incluídas em meu treinamento, mas não posso acessar dados ao vivo ou sites da web.\n",
      "\n",
      "Para te ajudar com as últimas notícias sobre IA, Gen AI e agentic workflows, recomendo que você consulte fontes confiáveis como:\n",
      "\n",
      "**Sites:**\n",
      "* **The Verge:** https://www.theverge.com/ \n",
      "* **Wired:**  https://www.wired.com/ \n",
      "* **MIT Technology Review:** https://www.technologyreview.com/\n",
      "* **VentureBeat:** https://venturebeat.com/\n",
      "* **Fast Company:** https://www.fastcompany.com/\n",
      "\n",
      "**Fóruns e Plataformas:**\n",
      "\n",
      "* **Reddit - r/artificialintelligence**:  https://www.reddit.com/r/ArtificialIntelligence/ \n",
      "* **Hacker News**: https://news.ycombinator.com/ \n",
      "\n",
      "\n",
      "Lembre-se de verificar a credibilidade das fontes antes de considerar qualquer informação. \n",
      "\n",
      "**Dica:** Busque por termos específicos como \"inteligência artificial\", \"generative AI\" ou \"agente workflows\" para melhores resultados em suas pesquisas online.  \n",
      "\n",
      "\n",
      "--------------------------------------------------------------------------------\n",
      "\u001b[33msumarizador\u001b[0m (to pesquisador):\n",
      "\n",
      "Embora eu não possa realizar pesquisas em tempo real, posso fornecer informações gerais sobre inteligência artificial, Gen AI e agentic workflows com base no meu treinamento.\n",
      "\n",
      "Aqui está um resumo geral sobre esses tópicos:\n",
      "\n",
      "**Inteligência Artificial (IA):**\n",
      "A inteligência artificial refere-se à simulação de processos cognitivos por computadores, incluindo aprendizado de máquina, processamento de linguagem natural e visão computacional. A IA tem o objetivo de criar sistemas capazes de realizar tarefas que normalmente requerem inteligência humana.\n",
      "\n",
      "**Gen AI (Inteligência Artificial Geradora):**\n",
      "A Gen AI é um tipo de inteligência artificial que usa algoritmos de aprendizado de máquina para gerar conteúdo, como texto, imagens e áudio. Ela pode ser usada para criar conteúdo personalizado, como respostas a perguntas frequentes ou gerar texto automaticamente.\n",
      "\n",
      "**Agentic Workflows:**\n",
      "Os agentic workflows são fluxos de trabalho que envolvem agentes inteligentes que trabalham juntos para realizar tarefas complexas. Esses agentes podem ser humanos ou computacionais e são projetados para se comunicar e colaborar de forma eficaz.\n",
      "\n",
      "Agora, se você tiver informações específicas sobre inteligência artificial, Gen AI e agentic workflows, posso ajudá-lo a criar um resumo personalizado. Por favor, forneça as informações que você gostaria de resumir.\n",
      "\n",
      "--------------------------------------------------------------------------------\n",
      "\u001b[33mpesquisador\u001b[0m (to sumarizador):\n",
      "\n",
      "Ótimo! Vou aproveitar esse conhecimento para ajudar a organizar  as informações mais importantes de forma mais concisa! 😊 \n",
      "\n",
      "Que tal me dizer o que você quer que eu explore mais profundamente?  Tem alguma área específica de IA, Gen AI ou agentic workflows que te interessa? Que tal focar em uma pergunta como:\n",
      "\n",
      "**1. \"Quais as últimas tendências da Gen AI em áreas específicas?\" (ex.: marketing, saúde) **\n",
      "**2. \"Como as AGs podem impactar a indústria da música?\"**) \n",
      "**3.  \"Qual o papel do aprendizado profundo na agentic workflows?\"**  \n",
      "\n",
      "Ou talvez você tenha em mente uma pergunta que não consiga encontrar resposta! \n",
      "\n",
      "Quanto mais detalhes você me der, melhor posso te auxiliar. 😄 \n",
      "\n",
      "\n",
      "\n",
      "\n",
      "\n",
      "\n",
      "--------------------------------------------------------------------------------\n",
      "\u001b[33msumarizador\u001b[0m (to pesquisador):\n",
      "\n",
      "Estou ansioso para explorar essas áreas com você! 🔍\n",
      "\n",
      "Eu acho que seria interessante explorar a pergunta **\"Quais as últimas tendências da Gen AI em áreas específicas?\"**, especialmente em áreas como marketing, saúde e educação. É importante entender como a Gen AI está sendo aplicada em diferentes setores e quais são os benefícios e desafios associados a essas aplicações.\n",
      "\n",
      "Em particular, gostaria de saber mais sobre como a Gen AI está sendo usada em:\n",
      "\n",
      "* Marketing: como a Gen AI pode ajudar a personalizar a experiência do cliente e melhorar a eficácia das campanhas de marketing?\n",
      "* Saúde: como a Gen AI pode ser usada para desenvolver diagnósticos mais precisos e tratamentos personalizados?\n",
      "* Educação: como a Gen AI pode ser usada para criar cursos personalizados e melhorar a experiência de aprendizado dos estudantes?\n",
      "\n",
      "Quanto às outras perguntas, também acho que seria interessante explorar a questão de como as AGs podem impactar a indústria da música. Por exemplo, como as AGs podem ser usadas para criar música original, ou para ajudar a melhorar a qualidade da música existente?\n",
      "\n",
      "Já sobre a pergunta sobre o papel do aprendizado profundo na agentic workflows, acho que seria interessante explorar como o aprendizado profundo pode ser usado para melhorar a tomada de decisão em agentic workflows, ou para criar agentes mais inteligentes e capazes de aprender.\n",
      "\n",
      "Mas, como você disse, é sempre útil ter mais informações e detalhes para trabalhar. Se você puder fornecer mais contexto ou informações sobre essas perguntas, estou aqui para ajudar a explorar essas áreas e criar um resumo personalizado! 😊\n",
      "\n",
      "--------------------------------------------------------------------------------\n",
      "\u001b[33mpesquisador\u001b[0m (to sumarizador):\n",
      "\n",
      "Ótimo!  Me parece que temos um bom caminho para começar! 🤩  Vou usar todo meu conhecimento de IA para te guiar por esses fascinantes campos. 😁\n",
      "\n",
      "Vamos começar com as últimas tendências da Gen AI em setores específicos:\n",
      "\n",
      "**Marketing:** 🧠💡\n",
      "\n",
      "* **Personalização de Experiência**: A Gen AI permite criar campanhas altamente personalizdas, enviando mensatamentos e ofertas baseadas em dados do consumidor (histórico de compra, interesses, etc.). Isso aumenta a probabilidade de conversão e fidelização. \n",
      "* **Criacão de Conteúdo**: Plataformas como ChatGPT auxiliam na criação de textos, imagens e vídeos  de marketing em massa -  ajudando a diminuir o tempo e economizar custos. 🤖\n",
      "* **Análise de Mercado & tendências**: Com a Gen AI,  o marketing pode entender melhor as novas demandas do mercado e se adaptar às mudanças na demanda, com maior precisão.\n",
      "\n",
      "**Saúde:**⚕️💯\n",
      "\n",
      "* **Diagnóstico Precisamente**: Modelos de IA podem processar dados como tomografia, exames, ecografias, etc., permitindo diagnósticos mais precisos e personalizados para o paciente (com base em informações clínicas).\n",
      "* **Tratamento Personalizado**: A Gen AI ajuda a criar planos de tratamento mais eficientes, levando em conta os antecedentes médicos do paciente. Seja para personalizar medicamentos ou terapia. \n",
      "* **Teste de Produtos**: Modelos de IA podem simular diferentes cenários, ajudando na otimização de novos produtos e na validação de processos dentro da área médica.\n",
      "\n",
      "**Educação:**🧑‍🎓👩‍🏛️📚\n",
      "\n",
      "* **Criação de Cursos Personalizados:**  Modelos de Gen AI podem adaptar o conteúdo às necessidades individuais de cada aluno - com base nessas necessidades, o sistema personaliza a navegação do curso e sugere conteúdos relevantes para cada etapa da aprendizagem. \n",
      "* **Suporte Individualizado**: A AI pode atuar como um tutor virtual que fornece suporte individualizado a alunos em tempo real, ajudando a resolver dúvidas e problemas de aprendizado.\n",
      "* **Avaliação Individualizada:** Através de algoritmos inteligentes, a Gen AI avalia o desempenho dos alunos de forma precisa e objetiva - melhorando o feedback, permitindo que eles aprendam de maneira mais eficaz, o que leva na próxima fase de conhecimento!\n",
      "\n",
      "\n",
      "**Música 🎵  **\n",
      "\n",
      "* **Criacão Musical Original**: AGs podem ser usadas para criar melodies  baseadas em estilos específicos, ou ainda gerar uma melodia totalmente nova. A Gen AI consegue imitar diferentes estilos musicais (pop, Rock, Jazz) e até mesmo combinar diferentes gêneros!\n",
      "* **Melhoria de Qualidade Musicais**: A Gen AI pode detectar falhas na música e gerar sugestões para aprimorar a qualidade sonora - ajudando compositores e produtores musical. 🤩\n",
      "\n",
      "\n",
      "**Agentes:** 👥🤖\n",
      "\n",
      "* **Tomada de Decisão:** O aprendizado profundo em AGs ajuda a identificar padrões de dados complexos, o que permite tomada de decisão mais assertivas em agentic workflows (por exemplo, como um agente de vendas pode decidir qual produto oferecer para cada cliente, com base em comportamento e histórico).\n",
      "* **Agente de Suporte**:  AGs podem ser projetados para lidar com tarefas repetitivas e complexas, permitindo que humanos se foquem em ações mais estratégicas e criativas.\n",
      "\n",
      "Já está pensando em quais tópicos você quer explorar a partir dessas informações? Se precisar de ajuda para definir sua pauta de pesquisa, fico à disposição! 😊  \n",
      "\n",
      "\n",
      "\n",
      "\n",
      "\n",
      "\n",
      "--------------------------------------------------------------------------------\n"
     ]
    }
   ],
   "source": [
    "chat_result = sumarizador.initiate_chat(\n",
    "    pesquisador, \n",
    "    message=\"Olá! Faça uma pesquisa na internet com  \"\n",
    "    \"as ultimas noticias de semana sobre inteligencia artificial, Gen AI, agentic workflows\", \n",
    "    max_turns=3, \n",
    "    summary_method=\"reflection_with_llm\",\n",
    "    summary_prompt=\"Resuma a conversa e entregue o resultado em PT-BR e bullet points\",\n",
    ")"
   ]
  },
  {
   "cell_type": "code",
   "execution_count": 19,
   "id": "b042de62-bc49-49ee-99f2-4f972e23670b",
   "metadata": {
    "height": 30
   },
   "outputs": [
    {
     "name": "stdout",
     "output_type": "stream",
     "text": [
      "('Gen AI is evolving rapidly in diverse fields and presenting significant '\n",
      " 'opportunities for advancements across sectors like marketing, healthcare, '\n",
      " 'and education. \\n'\n",
      " 'It enables custom customer experiences, advanced diagnostics and treatments, '\n",
      " 'and personalized learning, promising greater efficiency and effectiveness. \\n'\n",
      " 'However, challenges such as ensuring the ethical use of AI and privacy '\n",
      " 'concerns need to be addressed to leverage its full potential fully within '\n",
      " 'these domains. \\n'\n",
      " '\\n'\n",
      " '\\n'\n",
      " '**Additionally:**\\n'\n",
      " '- AI is impacting music composition by creating original melodies and '\n",
      " 'improving quality,  creating new possibilities for creativity and artistic '\n",
      " 'expression.  \\n'\n",
      " '- AI algorithms can optimize decision-making in agentic workflows, allowing '\n",
      " 'human agents to focus on strategic tasks and improve overall workflow '\n",
      " 'efficiency.  \\n'\n",
      " '- Machine learning offers significant progress but requires careful handling '\n",
      " 'of bias within data sets to ensure fair ethical application. \\n'\n",
      " '\\n'\n",
      " '\\n'\n",
      " '\\n')\n"
     ]
    }
   ],
   "source": [
    "pprint.pprint(chat_result.summary)"
   ]
  },
  {
   "cell_type": "markdown",
   "id": "300525bd",
   "metadata": {},
   "source": [
    "## Encerrando o chat\n",
    "\n",
    "O chat pode ser encerrado passando uma condição de finalização"
   ]
  },
  {
   "cell_type": "code",
   "execution_count": 20,
   "id": "044dfd61-7f1d-46d8-9e28-4b2601b43d70",
   "metadata": {
    "height": 353
   },
   "outputs": [],
   "source": [
    "assistente = ConversableAgent(\n",
    "    name=\"assistente\",\n",
    "    system_message=\n",
    "    \"Voce é um assistente pessoal baseado em IA Generativa e irá auxiliar \"\n",
    "    \"a criar uma planejamento de estudos de Agentic Workflow\", \n",
    "    llm_config=llm_config[\"config_list\"][1],\n",
    "    human_input_mode=\"NEVER\",\n",
    "    is_termination_msg=lambda msg: \"Isso é tudo, obrigado\" in msg[\"content\"],\n",
    ")\n",
    "\n",
    "planejador = ConversableAgent(\n",
    "    name=\"planejador\",\n",
    "    system_message=\n",
    "    \"Voce é um planejador especialista em Ultra Learnig. \"\n",
    "    \"Crie um plano de estudos para aprendizado de Agentic Workflow\"\n",
    "    \"Quando voce estiver pronto para encerrar a conversa, diga 'Isso é tudo, obrigado'\",\n",
    "    llm_config=llm_config[\"config_list\"][0],\n",
    "    human_input_mode=\"NEVER\",\n",
    ")"
   ]
  },
  {
   "cell_type": "code",
   "execution_count": 22,
   "id": "d92dc180",
   "metadata": {},
   "outputs": [
    {
     "name": "stdout",
     "output_type": "stream",
     "text": [
      "\u001b[33mplanejador\u001b[0m (to assistente):\n",
      "\n",
      "Olá, eu sou o planejador, me traga os assuntos mais importantes para estudo de IA Generativa e agentic workflow.\n",
      "\n",
      "--------------------------------------------------------------------------------\n",
      "\u001b[33massistente\u001b[0m (to planejador):\n",
      "\n",
      "Olá, planejador! A seguir, listo os principais assuntos importantes para estudo de IA Generativa e Agentic Workflow:\n",
      "\n",
      "**IA Generativa:**\n",
      "\n",
      "1. **Modelos de Linguagem**: Estudo de modelos de linguagem como Transformers, Recorrentes e Feed-Forward, incluindo suas arquiteturas e aplicações.\n",
      "2. **Aprendizado de Máquina**: Fundamentos de aprendizado de máquina, incluindo aprendizado supervisionado e não supervisionado, bem como técnicas de otimização.\n",
      "3. **Processamento de Linguagem Natural**: Estudo de técnicas de processamento de linguagem natural, como tokenização, stemming e lematização.\n",
      "4. **Redes Neurais**: Fundamentos de redes neurais, incluindo redes neurais feed-forward, recorrentes e convolucionais.\n",
      "5. **Técnicas de Geração de Texto**: Estudo de técnicas de geração de texto, como GANs (Redes Antagonistas Generativas), VAEs (Autocodificadores Variacionais) e seq2seq.\n",
      "\n",
      "**Agentic Workflow:**\n",
      "\n",
      "1. **Automação de Processos**: Estudo de técnicas de automação de processos, incluindo fluxos de trabalho, state machines e BPMN (Business Process Model and Notation).\n",
      "2. **Integração de Sistemas**: Fundamentos de integração de sistemas, incluindo APIs, microservices e ESB (Enterprise Service Bus).\n",
      "3. **Gerenciamento de Projetos**: Estudo de técnicas de gerenciamento de projetos, incluindo Agile, Scrum e Kanban.\n",
      "4. **Modelagem de Processos**: Fundamentos de modelagem de processos, incluindo UML (Unified Modeling Language) e BPMN.\n",
      "5. **Análise de Dados**: Estudo de técnicas de análise de dados, incluindo estatística, mineração de dados e visualização de dados.\n",
      "\n",
      "**Intersecção de IA Generativa e Agentic Workflow:**\n",
      "\n",
      "1. **Automatização de Processos com IA**: Estudo de como a IA pode ser utilizada para automatizar processos, incluindo a integração de agentes inteligentes em fluxos de trabalho.\n",
      "2. **Geração de Documentos**: Estudo de como a IA pode ser utilizada para gerar documentos, como relatórios e contratos, a partir de templates e dados.\n",
      "3. **Análise de Documentos**: Estudo de como a IA pode ser utilizada para analisar documentos, incluindo a extração de informações e a classificação de conteúdo.\n",
      "4. **Inteligência Artificial em Fluxos de Trabalho**: Estudo de como a IA pode ser utilizada para melhorar a eficiência e eficácia de fluxos de trabalho.\n",
      "5. **Gerenciamento de Conhecimento**: Estudo de como a IA pode ser utilizada para gerenciar conhecimento, incluindo a extração de conhecimento de dados e a geração de conhecimento.\n",
      "\n",
      "Esses são os principais assuntos que você deve estudar para se especializar em IA Generativa e Agentic Workflow. Lembre-se de que a prática e a experiência são fundamentais para dominar esses tópicos.\n",
      "\n",
      "--------------------------------------------------------------------------------\n",
      "\u001b[33mplanejador\u001b[0m (to assistente):\n",
      "\n",
      "Ótimo, isso é uma lista muito completa! Vamos agora montar um plano de aprendizado detalhado para cada área, dividido em etapas graduais: \n",
      "\n",
      "**I. IA Generativa:**\n",
      "\n",
      "1. **Fases de Aprendizagem:**\n",
      "    *  **Introdução às redes neurais (conceitos e arquitetura):**  Começar com o básico, entender como as neurona trabalham na rede neural. Explore aprendizado supervisionado e não supervisionado, como modelos de regressão e classificação. \n",
      "    * **Explorar Modelos de Linguagem:** Abordar modelos como BERT, GPT-3, T5 e XLNet, incluindo seus métodos de aprendizado.  \n",
      "2. **Etapas Intermediárias:** \n",
      "    * **Anális do Processo de Geração Textual (Text Generation):**  Aprofundar-se em técnicas de geração de texto utilizando GANs, VAEs e seq2seq. \n",
      "    * **Aplicando a IA Generativa (Projetos prático):** Começar a treinar modelos usando datasets como GitHub, Wikipedia e IMDB. Utilize bibliotecas como TensorFlow / Keras para construir projetos simples.  \n",
      "3. **Etapas finais:**     \n",
      "    * **IA Generativa para Aplicações:** Mergulhando em exemplos de real-world aplicações, como tradução automática, escrita criativa, chatbot's e automação de conteúdo. \n",
      "    * **Networking e Discussão (Comunidades online):** Participe de fóruns online, grupos de discussão, workshops e eventos para aprender com outros especialistas.  \n",
      "\n",
      "\n",
      "**II. Agentic Workflow:**\n",
      "\n",
      "1. **Entendendo o funcionamento dos fluxos:** \n",
      "   * **Introdução aos processos de negócio:** Entender os principais conceitos de BPM: Fluxo de Trabalho, Estado Machine, BPMN e UML (Unified Modeling Language).\n",
      " 2. **Criando sistemas de fluxo de trabalho:**  \n",
      "    *  **Esquemas de workflows com ferramentas online (Exemplos):** Experimentar plataformas de workflow automation como Microsoft Power Automate, Zapier, OutSystems para criar workflows simples. Explore os diferentes fluxos que podem ser implementados.\n",
      "    \n",
      "\n",
      " **III. Intersecção de IA Generativa e Agentic Workflow:**\n",
      "\n",
      "1. **IA Automação:** \n",
      "    *  **Automate o processo com a IA (Integração):** Como o GPT-3 pode criar descrições, documentação para fluxo de trabalho ou chatbot que podem ser implementado em um sistema? A base para o desenvolvimento de agentes?\n",
      "2.  **IA e Desenvolvimento:** \n",
      "    * **Plataformas de Aprendizado por Resultados (Automação):** A IA pode gerar código de programação para sistemas de workflow, utilizando plataformas como OpenAI Codex ou GitHub Copilot.\n",
      "\n",
      "\n",
      "**IV. Conclusão:**\n",
      "\n",
      "Lembre-se que o aprendizado em IA Generativa e Agentic Workflow requer tempo e dedicação constante. Experimente, explore, pratique o que você aprendeu e não tenha medo de errar. Esse é o caminho para a sucessão na área!  \n",
      " \t\n",
      "**Isso é tudo, obrigado!  **\n",
      "\n",
      "\n",
      "\n",
      "\n",
      "\n",
      "--------------------------------------------------------------------------------\n"
     ]
    }
   ],
   "source": [
    "chat_result = planejador.initiate_chat(\n",
    "    recipient=assistente,\n",
    "    message=\"Olá, eu sou o planejador, me traga os assuntos mais importantes para estudo de IA Generativa e agentic workflow.\"\n",
    ")"
   ]
  },
  {
   "cell_type": "code",
   "execution_count": 23,
   "id": "46d82a58",
   "metadata": {},
   "outputs": [
    {
     "name": "stdout",
     "output_type": "stream",
     "text": [
      "{'usage_excluding_cached_inference': {'total_cost': 0},\n",
      " 'usage_including_cached_inference': {'gemma2:2b': {'completion_tokens': 1312,\n",
      "                                                    'cost': 0,\n",
      "                                                    'prompt_tokens': 1432,\n",
      "                                                    'total_tokens': 2744},\n",
      "                                      'llama-3.1-70b-versatile': {'completion_tokens': 1396,\n",
      "                                                                  'cost': 0,\n",
      "                                                                  'prompt_tokens': 194,\n",
      "                                                                  'total_tokens': 1590},\n",
      "                                      'total_cost': 0}}\n"
     ]
    }
   ],
   "source": [
    "pprint.pprint(chat_result.cost)"
   ]
  }
 ],
 "metadata": {
  "kernelspec": {
   "display_name": "Python 3 (ipykernel)",
   "language": "python",
   "name": "python3"
  },
  "language_info": {
   "codemirror_mode": {
    "name": "ipython",
    "version": 3
   },
   "file_extension": ".py",
   "mimetype": "text/x-python",
   "name": "python",
   "nbconvert_exporter": "python",
   "pygments_lexer": "ipython3",
   "version": "3.10.12"
  }
 },
 "nbformat": 4,
 "nbformat_minor": 5
}
