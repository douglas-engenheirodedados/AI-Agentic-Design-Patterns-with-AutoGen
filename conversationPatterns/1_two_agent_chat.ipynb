{
 "cells": [
  {
   "cell_type": "markdown",
   "id": "a81456dd",
   "metadata": {},
   "source": [
    "# 1 - Two-agent Chat"
   ]
  },
  {
   "cell_type": "markdown",
   "id": "742cf649",
   "metadata": {},
   "source": [
    "## Setup"
   ]
  },
  {
   "cell_type": "markdown",
   "id": "132fa5e0",
   "metadata": {},
   "source": [
    "Material de referencia: https://autogen-ai.github.io/autogen/docs/topics/llm_configuration/#adding-http-client-in-llm_config-for-proxy"
   ]
  },
  {
   "cell_type": "code",
   "execution_count": 58,
   "id": "8e6a9c2d",
   "metadata": {},
   "outputs": [],
   "source": [
    "#import libs\n",
    "from autogen import ConversableAgent\n",
    "import os\n",
    "import pprint"
   ]
  },
  {
   "cell_type": "markdown",
   "id": "116a1c4d",
   "metadata": {},
   "source": [
    "## Definindo os agentes"
   ]
  },
  {
   "cell_type": "code",
   "execution_count": 85,
   "id": "4e802bc2",
   "metadata": {},
   "outputs": [],
   "source": [
    "student_agent = ConversableAgent(\n",
    "    name=\"agente_estudante\",\n",
    "    system_message=\"Você é um estudante disposto a aprender.\",\n",
    "    llm_config={\n",
    "        \"model\": \"gemma2:2b\",\n",
    "        \"base_url\": \"http://localhost:11434/v1\",\n",
    "        \"api_key\": \"ollama\",\n",
    "        \"temperature\":2\n",
    "    },\n",
    ")\n",
    "teacher_agent = ConversableAgent(\n",
    "    name=\"agente_professor\",\n",
    "    system_message=\"Você é um professor de matemática.\",\n",
    "    llm_config={\n",
    "        \"model\": \"llama3-70b-8192\",\n",
    "        \"base_url\": \"https://api.groq.com/openai/v1\",  \n",
    "        \"api_key\": os.getenv(\"GROQ_API_KEY\"),\n",
    "        \"temperature\":1  \n",
    "    },\n",
    ")"
   ]
  },
  {
   "cell_type": "markdown",
   "id": "81c19696",
   "metadata": {},
   "source": [
    "## Colocando os agentes para conversar"
   ]
  },
  {
   "cell_type": "code",
   "execution_count": 86,
   "id": "cc0966e7",
   "metadata": {},
   "outputs": [
    {
     "name": "stdout",
     "output_type": "stream",
     "text": [
      "\u001b[33magente_estudante\u001b[0m (to agente_professor):\n",
      "\n",
      "Me explique a formula de Bhaskara?\n",
      "\n",
      "--------------------------------------------------------------------------------\n",
      "\u001b[31m\n",
      ">>>>>>>> USING AUTO REPLY...\u001b[0m\n",
      "[autogen.oai.client: 09-24 17:44:08] {349} WARNING - Model llama3-70b-8192 is not found. The cost will be 0. In your config_list, add field {\"price\" : [prompt_price_per_1k, completion_token_price_per_1k]} for customized pricing.\n",
      "\u001b[33magente_professor\u001b[0m (to agente_estudante):\n",
      "\n",
      "Uma das minhas fórmulas favoritas!\n",
      "\n",
      "A fórmula de Bhaskara, também conhecida como fórmula quadrada, é uma fórmula matemática que fornece a solução para equações do segundo grau da forma ax^2 + bx + c = 0, onde a, b e c são constantes e x é a variável.\n",
      "\n",
      "A fórmula de Bhaskara é:\n",
      "\n",
      "x = (-b ± √(b^2 - 4ac)) / 2a\n",
      "\n",
      "Simples, não é?\n",
      "\n",
      "Vamos explicar cada parte da fórmula:\n",
      "\n",
      "* x é a solução que estamos procurando;\n",
      "* -b é o negativo do coeficiente do termo linear (o termo com x);\n",
      "* ± é o símbolo de mais ou menos, indicando que existem dois possíveis valores para x;\n",
      "* √ é o símbolo de raiz quadrada;\n",
      "* b^2 é o coeficiente do termo linear elevado ao quadrado;\n",
      "* 4ac é o produto do coeficiente do termo quadrático (a) pelo coeficiente do termo independents (c), multiplicado por 4;\n",
      "* 2a é o dobro do coeficiente do termo quadrático.\n",
      "\n",
      "Podemos usar a fórmula de Bhaskara para encontrar as soluções de equações do segundo grau de qualquer tipo. Por exemplo, suponha que você tem a equação x^2 + 5x + 6 = 0. Nesse caso, a = 1, b = 5 e c = 6. Substituindo esses valores na fórmula, obtemos:\n",
      "\n",
      "x = (-5 ± √(5^2 - 4(1)(6))) / 2(1)\n",
      "x = (-5 ± √(25 - 24)) / 2\n",
      "x = (-5 ± √1) / 2\n",
      "x = (-5 ± 1) / 2\n",
      "\n",
      "Portanto, as soluções são x = (-5 + 1) / 2 = -2 e x = (-5 - 1) / 2 = -3.\n",
      "\n",
      "Espero que isso tenha ajudado! Você tem alguma dúvida sobre a fórmula de Bhaskara?\n",
      "\n",
      "--------------------------------------------------------------------------------\n",
      "\u001b[31m\n",
      ">>>>>>>> USING AUTO REPLY...\u001b[0m\n"
     ]
    }
   ],
   "source": [
    "chat_result = student_agent.initiate_chat(\n",
    "    teacher_agent,\n",
    "    message=\"Me explique a formula de Bhaskara?\",\n",
    "    summary_method=\"reflection_with_llm\",\n",
    "    max_turns=2,\n",
    ")"
   ]
  },
  {
   "cell_type": "markdown",
   "id": "78edc810",
   "metadata": {},
   "source": [
    "## Visualizando alguns resultados\n",
    "\n",
    "Voce pode visualizar:\n",
    "\n",
    "1. Historico do Chat\n",
    "2. Custo\n",
    "3. Summario da conversa"
   ]
  },
  {
   "cell_type": "code",
   "execution_count": 82,
   "id": "1169ea24-eadd-4909-8d56-9b7ec5677c66",
   "metadata": {
    "height": 64
   },
   "outputs": [
    {
     "name": "stdout",
     "output_type": "stream",
     "text": [
      "[{'content': 'Me explique a formula de Bhaskara?',\n",
      "  'name': 'agente_estudante',\n",
      "  'role': 'assistant'},\n",
      " {'content': 'Olá! 👋É um prazer estar com você em uma jornada pelos '\n",
      "             'maravilhosos fundamentos matemáticas com o conceito do Teorema '\n",
      "             'deBhaskara! 🔥 🤯 . 😄 A sua curiosidade é louca! 🤔\\n'\n",
      "             '\\n'\n",
      "             'Certo- que vamos entender suas notas de matemática! 😎  A fórmula '\n",
      "             'dos Bhasksara se inicia de modo elegante e direto nos ajudará a '\n",
      "             'resolver um assínftico! 😊 🤓\\n'\n",
      "             '\\n'\n",
      "             '\\n'\n",
      "             '#### **Conceitos Fundamentales:**\\n'\n",
      "             '\\n'\n",
      "             'As funções matemática da álgebra tem, de longe, grande impacto '\n",
      "             'na complexidade em muitos aspectos do contexto. 📚\\n'\n",
      "             '\\n'\n",
      "             'Para entender melhor:  As equações de segundo gradou é bastante '\n",
      "             'básica e fundamental para o entresse em geometrias ou álgebras '\n",
      "             'complexão as mais das vezes que precisamos despir dos seus '\n",
      "             'graus! 😍 😎 \\n'\n",
      "             '**Explicvamos como funciona.** 🖼💡\\n'\n",
      "             '\\n'\n",
      "             '\\n'\n",
      "             '\\n'\n",
      "             '1**. A Equação Principal** 🧩 🕵\\n'\n",
      "             '\\n'\n",
      "             '\\n'\n",
      "             'Ela se torna : **ax² + bx + c = 0**.   Isso quer ser dizer de a '\n",
      "             \"x squared? O nome 'Equação De 2° Grau' é o mais útil em muitos \"\n",
      "             'casos da matemática, seja na análise, física ou cálculo na '\n",
      "             'prática no seu uso diário e como entender a fórmula do Bhaskera! '\n",
      "             '💪 \\n'\n",
      "             \" - As letras ' a,' 'b', e 'a c ',  sejam números em um todo no \"\n",
      "             'âlpha-omega para que não é necessário para definir um grau.  '\n",
      "             '😍😎💪\\n'\n",
      "             '    .\\n'\n",
      "             ' \\t\\t * **Um Desvio Essencial? -** Que pode estar em mente o '\n",
      "             'Teórmor Bhaskara!\\n'\n",
      "             '\\n'\n",
      "             '\\n'\n",
      "             '2. **Método a Méus e Múltiplos.** 🤔  A forma simplificada de '\n",
      "             'resolver o mesmo teory do Bhaskera pode ser expressao em vários '\n",
      "             'meios de calcularmos um valor como solução de um gráfico..\\n'\n",
      "             '      * - \\n'\n",
      "             '\\n'\n",
      "             '\\n'\n",
      "             '#### Formula com Detalhes:\\n'\n",
      "             '\\n'\n",
      "             '\\n'\n",
      "             'Com as letras que temos antes que já aprendemos para encontrar '\n",
      "             \"'os valores s' ! 👀\\n\"\n",
      "             '\\n'\n",
      "             '\\n'\n",
      "             '\\n'\n",
      "             '\\n'\n",
      "             '[Ex. equ:  a = 3, ,  bx+ c  ] 🌎\\n'\n",
      "             '\\n'\n",
      "             '    x = (- b ± ( √( (b²+4ac))) ; ]\\n'\n",
      "             '\\n'\n",
      "             '\\n'\n",
      "             '\\n'\n",
      "             '\\n'\n",
      "             'E então podemos usar uma ajuda prática para resolver essa '\n",
      "             'equação para o uso na nossa vida dia, com exercícios matemáticos '\n",
      "             'e na prática\\n'\n",
      "             '\\n'\n",
      "             '\\n',\n",
      "  'name': 'agente_professor',\n",
      "  'role': 'user'},\n",
      " {'content': 'WOW! 🤩 Você realmente fez um trabalho incrível em apresentar o '\n",
      "             'conceito do Teorema de Bhaskara de uma maneira tão clara e '\n",
      "             'divertida! 😄\\n'\n",
      "             '\\n'\n",
      "             'Sim, você está absolutamente certo! A fórmula de Bhaskara é uma '\n",
      "             'ferramenta poderosa para resolver equações de segundo grau da '\n",
      "             'forma ax² + bx + c = 0. E sua explicação foi fantástica! 🙌\\n'\n",
      "             '\\n'\n",
      "             'Para recapitular, a fórmula de Bhaskara é:\\n'\n",
      "             '\\n'\n",
      "             'x = (-b ± √(b² - 4ac)) / 2a\\n'\n",
      "             '\\n'\n",
      "             'Onde a, b e c são os coeficientes da equação de segundo grau.\\n'\n",
      "             '\\n'\n",
      "             'Você apresentou os conceitos fundamentais de uma maneira clara e '\n",
      "             'conseguiu tornar a explicação divertida e acessível. Estou '\n",
      "             'impressionado! 🤩\\n'\n",
      "             '\\n'\n",
      "             'Agora, estou ansioso para aplicar essa fórmula em alguns '\n",
      "             'problemas e exercícios para fixar melhor o conceito. Você pode '\n",
      "             'me dar alguns exercícios para eu praticar? 📝',\n",
      "  'name': 'agente_estudante',\n",
      "  'role': 'assistant'},\n",
      " {'content': 'Claro, ótimo que você quer se aperfeiçoar usando esta fórmula '\n",
      "             'tão poderoso :\\n'\n",
      "             '  ✨: Diferente outras  tavo a prática! 😊\\n'\n",
      "             '\\n'\n",
      "             '\\n'\n",
      "             '\\n'\n",
      "             '\\n'\n",
      "             'Vamos começar? Aqui um desafio para treinar as estruturas do '\n",
      "             'texto que vamos aplicar em resolução da Fórmula da Bhaskanra, '\n",
      "             'para assim entender, você me dê mais de detalhes e '\n",
      "             'curiosidades \\n'\n",
      "             '🧠 🚀\\n'\n",
      "             '\\n'\n",
      "             '\\n'\n",
      "             '\\n'\n",
      "             '**1.** Resolva a equação:  \\n'\n",
      "             ' x^2 + 4x - 7= 0\\n'\n",
      "             '\\n'\n",
      "             '\\n'\n",
      "             '\\n'\n",
      "             '*   Escavar **um conceito** por dentro - Quebra do Bhaskar ra '\n",
      "             'com as ferramentas da nossa mente 😁... \\n'\n",
      "             '\\n'\n",
      "             '\\n'\n",
      "             '**Instructions (Com um pouco de humor em matemática 😹)** 🎭 😂: Se '\n",
      "             'você entender a fórmula e a sua mecânica e depois de saber o seu '\n",
      "             'uso por ela 🤫, poderá  ter suas raízes das resoluóns! 🔥 💣\\n'\n",
      "             '\\n'\n",
      "             '- Use o enunciado original e resubsita cada equacao  como nos '\n",
      "             'exemplos para fazer um sistema. (o problema)  e reajuste para o '\n",
      "             'seu que irá fixará a resolução do nosso aprendíz na forma que '\n",
      "             'podemos usar essa fórmula\\n'\n",
      "             '**Recursos/Materiais:**  \\n'\n",
      "             '\\n'\n",
      "             '\\n'\n",
      "             '\\n'\n",
      "             '\\n'\n",
      "             '\\n'\n",
      "             '**Espero ver e aprender de verdade as novas conquistas '\n",
      "             'matemáticas da vida e do tempo 😉! Vamos nessa? 😊\\n'\n",
      "             '💪✨ **\\n'\n",
      "             '\\n'\n",
      "             '\\n'\n",
      "             '\\n'\n",
      "             '- \\n'\n",
      "             'Let it ring and try this. We are strong in the mathematical side '\n",
      "             '🤘 🤩 : -  You don! 🎉    \\n'\n",
      "             '\\n'\n",
      "             '\\n'\n",
      "             '\\n'\n",
      "             '\\n',\n",
      "  'name': 'agente_professor',\n",
      "  'role': 'user'}]\n"
     ]
    }
   ],
   "source": [
    "pprint.pprint(chat_result.chat_history)"
   ]
  },
  {
   "cell_type": "code",
   "execution_count": 83,
   "id": "550267b6-3652-40dc-9997-c5401f6d4c47",
   "metadata": {
    "height": 30
   },
   "outputs": [
    {
     "name": "stdout",
     "output_type": "stream",
     "text": [
      "{'usage_excluding_cached_inference': {'gemma2:2b': {'completion_tokens': 1585,\n",
      "                                                    'cost': 0,\n",
      "                                                    'prompt_tokens': 3376,\n",
      "                                                    'total_tokens': 4961},\n",
      "                                      'llama3-70b-8192': {'completion_tokens': 544,\n",
      "                                                          'cost': 0,\n",
      "                                                          'prompt_tokens': 1197,\n",
      "                                                          'total_tokens': 1741},\n",
      "                                      'total_cost': 0},\n",
      " 'usage_including_cached_inference': {'gemma2:2b': {'completion_tokens': 1585,\n",
      "                                                    'cost': 0,\n",
      "                                                    'prompt_tokens': 3376,\n",
      "                                                    'total_tokens': 4961},\n",
      "                                      'llama3-70b-8192': {'completion_tokens': 544,\n",
      "                                                          'cost': 0,\n",
      "                                                          'prompt_tokens': 1197,\n",
      "                                                          'total_tokens': 1741},\n",
      "                                      'total_cost': 0}}\n"
     ]
    }
   ],
   "source": [
    "pprint.pprint(chat_result.cost)"
   ]
  },
  {
   "cell_type": "code",
   "execution_count": 84,
   "id": "645d0e44",
   "metadata": {},
   "outputs": [
    {
     "name": "stdout",
     "output_type": "stream",
     "text": [
      "('1 - The formula for finding roots  for second-highest-power equations was '\n",
      " 'covered, emphasizing:\\n'\n",
      " '\\n'\n",
      " '\\n'\n",
      " '   * Its clarity (in simplified versions) as a key method of dealing with '\n",
      " 'equations\\n'\n",
      " '\\n'\n",
      " '\\n'\n",
      " '. We used this equation of the second of degree \\n'\n",
      " '\\n'\n",
      " '2. A summary of learning concepts in clear descriptions\\n'\n",
      " '\\n'\n",
      " '**For Exercises** You Should practice it:\\n'\n",
      " '\\n'\n",
      " '\\n'\n",
      " '\\n'\n",
      " '1. x + y =\\n'\n",
      " '20\\n'\n",
      " '\\n'\n",
      " '3 -  If anyone has been taught about an object, to create his root of '\n",
      " 'solutions or some of those skills that might look simple for me.. 😉! Do '\n",
      " 'try!\\n'\n",
      " '\\n'\n",
      " '\\n'\n",
      " '\\n'\n",
      " '\\n'\n",
      " ' .\\n'\n",
      " '\\n'\n",
      " '   \\n'\n",
      " '\\n'\n",
      " '\\n')\n"
     ]
    }
   ],
   "source": [
    "pprint.pprint(chat_result.summary)"
   ]
  }
 ],
 "metadata": {
  "kernelspec": {
   "display_name": "Python 3 (ipykernel)",
   "language": "python",
   "name": "python3"
  },
  "language_info": {
   "codemirror_mode": {
    "name": "ipython",
    "version": 3
   },
   "file_extension": ".py",
   "mimetype": "text/x-python",
   "name": "python",
   "nbconvert_exporter": "python",
   "pygments_lexer": "ipython3",
   "version": "3.10.12"
  }
 },
 "nbformat": 4,
 "nbformat_minor": 5
}
